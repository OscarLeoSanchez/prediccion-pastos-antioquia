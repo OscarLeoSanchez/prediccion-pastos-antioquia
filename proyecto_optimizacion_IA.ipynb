{
  "cells": [
    {
      "cell_type": "markdown",
      "metadata": {
        "id": "view-in-github",
        "colab_type": "text"
      },
      "source": [
        "<a href=\"https://colab.research.google.com/github/OscarLeoSanchez/prediccion-pastos-antioquia/blob/main/proyecto_optimizacion_IA.ipynb\" target=\"_parent\"><img src=\"https://colab.research.google.com/assets/colab-badge.svg\" alt=\"Open In Colab\"/></a>"
      ]
    },
    {
      "cell_type": "code",
      "execution_count": null,
      "metadata": {
        "colab": {
          "base_uri": "https://localhost:8080/"
        },
        "id": "sdYH-6HVgk9M",
        "outputId": "ccb9d426-710b-4198-d7cb-6154f303af8d"
      },
      "outputs": [
        {
          "output_type": "stream",
          "name": "stdout",
          "text": [
            "Requirement already satisfied: Optuna in /usr/local/lib/python3.10/dist-packages (3.4.0)\n",
            "Requirement already satisfied: alembic>=1.5.0 in /usr/local/lib/python3.10/dist-packages (from Optuna) (1.12.1)\n",
            "Requirement already satisfied: colorlog in /usr/local/lib/python3.10/dist-packages (from Optuna) (6.7.0)\n",
            "Requirement already satisfied: numpy in /usr/local/lib/python3.10/dist-packages (from Optuna) (1.23.5)\n",
            "Requirement already satisfied: packaging>=20.0 in /usr/local/lib/python3.10/dist-packages (from Optuna) (23.2)\n",
            "Requirement already satisfied: sqlalchemy>=1.3.0 in /usr/local/lib/python3.10/dist-packages (from Optuna) (2.0.23)\n",
            "Requirement already satisfied: tqdm in /usr/local/lib/python3.10/dist-packages (from Optuna) (4.66.1)\n",
            "Requirement already satisfied: PyYAML in /usr/local/lib/python3.10/dist-packages (from Optuna) (6.0.1)\n",
            "Requirement already satisfied: Mako in /usr/local/lib/python3.10/dist-packages (from alembic>=1.5.0->Optuna) (1.3.0)\n",
            "Requirement already satisfied: typing-extensions>=4 in /usr/local/lib/python3.10/dist-packages (from alembic>=1.5.0->Optuna) (4.5.0)\n",
            "Requirement already satisfied: greenlet!=0.4.17 in /usr/local/lib/python3.10/dist-packages (from sqlalchemy>=1.3.0->Optuna) (3.0.1)\n",
            "Requirement already satisfied: MarkupSafe>=0.9.2 in /usr/local/lib/python3.10/dist-packages (from Mako->alembic>=1.5.0->Optuna) (2.1.3)\n"
          ]
        }
      ],
      "source": [
        "! pip install Optuna"
      ]
    },
    {
      "cell_type": "code",
      "source": [
        "from google.colab import drive\n",
        "\n",
        "drive.mount('/content/gdrive')"
      ],
      "metadata": {
        "colab": {
          "base_uri": "https://localhost:8080/"
        },
        "id": "huxTh-uL1mNI",
        "outputId": "8d8de70c-f5a4-4127-e98f-073eaa0b543c"
      },
      "execution_count": null,
      "outputs": [
        {
          "output_type": "stream",
          "name": "stdout",
          "text": [
            "Drive already mounted at /content/gdrive; to attempt to forcibly remount, call drive.mount(\"/content/gdrive\", force_remount=True).\n"
          ]
        }
      ]
    },
    {
      "cell_type": "code",
      "execution_count": null,
      "metadata": {
        "id": "5Y4ODJ3SdYrO"
      },
      "outputs": [],
      "source": [
        "import pandas as pd\n",
        "import numpy as np\n",
        "import matplotlib.pyplot as plt\n",
        "import seaborn as sns\n",
        "\n",
        "import os\n",
        "import requests\n",
        "import json"
      ]
    },
    {
      "cell_type": "code",
      "source": [
        "data = pd.DataFrame()\n",
        "try:\n",
        "  data = pd.read_csv('/content/gdrive/Shareddrives/Especialización IA/Optimización e IA/Trabajo /data.csv')\n",
        "except:\n",
        "  data = pd.read_csv('data.csv')\n",
        "data"
      ],
      "metadata": {
        "colab": {
          "base_uri": "https://localhost:8080/",
          "height": 686
        },
        "id": "2hzgINC6eDqt",
        "outputId": "8334f417-a3ac-4d94-f71b-06de8c46188e"
      },
      "execution_count": null,
      "outputs": [
        {
          "output_type": "execute_result",
          "data": {
            "text/plain": [
              "       AÑO        SUBREGION    RUBRO    MUNICIPIO  \\\n",
              "0     2000       Bajo Cauca  BOVINOS      CÁCERES   \n",
              "1     2000       Bajo Cauca  BOVINOS     CAUCASIA   \n",
              "2     2000       Bajo Cauca  BOVINOS     EL BAGRE   \n",
              "3     2000       Bajo Cauca  BOVINOS        NECHÍ   \n",
              "4     2000       Bajo Cauca  BOVINOS       TARAZÁ   \n",
              "...    ...              ...      ...          ...   \n",
              "2596  2021  Valle de Aburra  BOVINOS     ENVIGADO   \n",
              "2597  2021  Valle de Aburra  BOVINOS    GIRARDOTA   \n",
              "2598  2021  Valle de Aburra  BOVINOS  LA ESTRELLA   \n",
              "2599  2021  Valle de Aburra  BOVINOS     MEDELLÍN   \n",
              "2600  2021  Valle de Aburra  BOVINOS     SABANETA   \n",
              "\n",
              "      BOVINOS Cría Macho (< DE 12)  BOVINOS Novillo Levante (12-24)  \\\n",
              "0                           5923.0                           7561.0   \n",
              "1                           8257.0                          17329.0   \n",
              "2                            564.0                            596.0   \n",
              "3                           2726.0                           3092.0   \n",
              "4                           2462.0                           6418.0   \n",
              "...                            ...                              ...   \n",
              "2596                         143.0                            327.0   \n",
              "2597                         616.0                           1040.0   \n",
              "2598                          78.0                            228.0   \n",
              "2599                         835.0                            869.0   \n",
              "2600                          73.0                             90.0   \n",
              "\n",
              "      BOVINOS Novillo  Ceba ( 24-36)  BOVINOS Toros (> 36)  TOTAL MACHOS  \\\n",
              "0                            10068.0                2605.0         26157   \n",
              "1                            15671.0                2210.0         43467   \n",
              "2                              242.0                 165.0          1567   \n",
              "3                             2824.0                 880.0          9522   \n",
              "4                             2656.0                 702.0         12238   \n",
              "...                              ...                   ...           ...   \n",
              "2596                            75.0                  21.0           566   \n",
              "2597                           861.0                 225.0          2742   \n",
              "2598                            72.0                   2.0           380   \n",
              "2599                           489.0                 101.0          2294   \n",
              "2600                            30.0                   0.0           193   \n",
              "\n",
              "      BOVINOS Cría Hembra (< DE 12)  ...  BOVINOS Novilla Vientre ( 24-36)  \\\n",
              "0                            9071.0  ...                            7965.0   \n",
              "1                           12646.0  ...                           12932.0   \n",
              "2                             864.0  ...                            1374.0   \n",
              "3                            4175.0  ...                            3361.0   \n",
              "4                            3770.0  ...                            2698.0   \n",
              "...                             ...  ...                               ...   \n",
              "2596                          424.0  ...                             320.0   \n",
              "2597                         1111.0  ...                            1087.0   \n",
              "2598                          113.0  ...                             199.0   \n",
              "2599                         2397.0  ...                            1840.0   \n",
              "2600                           94.0  ...                              83.0   \n",
              "\n",
              "      BOVINOS Vaca (> 36)  TOTAL HEMBRAS  Total Bovinos  Pasto Corte (ha)  \\\n",
              "0                 28100.0          55122        81279.0            4500.0   \n",
              "1                 44489.0          86616       130083.0             120.0   \n",
              "2                  2176.0           5400         6967.0               NaN   \n",
              "3                 13870.0          24607        34129.0               NaN   \n",
              "4                 10434.0          23608        35846.0               NaN   \n",
              "...                   ...            ...            ...               ...   \n",
              "2596                670.0           1959         2525.0               NaN   \n",
              "2597               1772.0           5406         8148.0             209.0   \n",
              "2598                143.0            703         1083.0             150.0   \n",
              "2599               4206.0          11079        13373.0             454.0   \n",
              "2600                 43.0            358          551.0              50.0   \n",
              "\n",
              "      Pasto Natural (ha)  Pasto Mejorado (ha)  Pasto Forrajero (ha)  \\\n",
              "0                68500.0              20000.0                   NaN   \n",
              "1                80300.0              25000.0                   NaN   \n",
              "2                28350.0               8000.0                   NaN   \n",
              "3                31000.0              12500.0                   NaN   \n",
              "4                35200.0                  NaN                   NaN   \n",
              "...                  ...                  ...                   ...   \n",
              "2596               883.0                 37.0                   NaN   \n",
              "2597               475.0                 10.0                   5.0   \n",
              "2598               450.0                  NaN                   NaN   \n",
              "2599              2992.0               5529.0                   NaN   \n",
              "2600               130.0                 35.0                   NaN   \n",
              "\n",
              "      Silvopastoril (ha)  Total Pastos (ha)  \n",
              "0                    NaN            93000.0  \n",
              "1                    NaN           105420.0  \n",
              "2                    NaN            36350.0  \n",
              "3                    NaN            43500.0  \n",
              "4                    NaN            35200.0  \n",
              "...                  ...                ...  \n",
              "2596                10.0              930.0  \n",
              "2597                 NaN              699.0  \n",
              "2598                 NaN              600.0  \n",
              "2599                 NaN             8975.0  \n",
              "2600                 NaN              215.0  \n",
              "\n",
              "[2601 rows x 21 columns]"
            ],
            "text/html": [
              "\n",
              "  <div id=\"df-afef0b11-c01e-455e-9ab9-06bd137f0340\" class=\"colab-df-container\">\n",
              "    <div>\n",
              "<style scoped>\n",
              "    .dataframe tbody tr th:only-of-type {\n",
              "        vertical-align: middle;\n",
              "    }\n",
              "\n",
              "    .dataframe tbody tr th {\n",
              "        vertical-align: top;\n",
              "    }\n",
              "\n",
              "    .dataframe thead th {\n",
              "        text-align: right;\n",
              "    }\n",
              "</style>\n",
              "<table border=\"1\" class=\"dataframe\">\n",
              "  <thead>\n",
              "    <tr style=\"text-align: right;\">\n",
              "      <th></th>\n",
              "      <th>AÑO</th>\n",
              "      <th>SUBREGION</th>\n",
              "      <th>RUBRO</th>\n",
              "      <th>MUNICIPIO</th>\n",
              "      <th>BOVINOS Cría Macho (&lt; DE 12)</th>\n",
              "      <th>BOVINOS Novillo Levante (12-24)</th>\n",
              "      <th>BOVINOS Novillo  Ceba ( 24-36)</th>\n",
              "      <th>BOVINOS Toros (&gt; 36)</th>\n",
              "      <th>TOTAL MACHOS</th>\n",
              "      <th>BOVINOS Cría Hembra (&lt; DE 12)</th>\n",
              "      <th>...</th>\n",
              "      <th>BOVINOS Novilla Vientre ( 24-36)</th>\n",
              "      <th>BOVINOS Vaca (&gt; 36)</th>\n",
              "      <th>TOTAL HEMBRAS</th>\n",
              "      <th>Total Bovinos</th>\n",
              "      <th>Pasto Corte (ha)</th>\n",
              "      <th>Pasto Natural (ha)</th>\n",
              "      <th>Pasto Mejorado (ha)</th>\n",
              "      <th>Pasto Forrajero (ha)</th>\n",
              "      <th>Silvopastoril (ha)</th>\n",
              "      <th>Total Pastos (ha)</th>\n",
              "    </tr>\n",
              "  </thead>\n",
              "  <tbody>\n",
              "    <tr>\n",
              "      <th>0</th>\n",
              "      <td>2000</td>\n",
              "      <td>Bajo Cauca</td>\n",
              "      <td>BOVINOS</td>\n",
              "      <td>CÁCERES</td>\n",
              "      <td>5923.0</td>\n",
              "      <td>7561.0</td>\n",
              "      <td>10068.0</td>\n",
              "      <td>2605.0</td>\n",
              "      <td>26157</td>\n",
              "      <td>9071.0</td>\n",
              "      <td>...</td>\n",
              "      <td>7965.0</td>\n",
              "      <td>28100.0</td>\n",
              "      <td>55122</td>\n",
              "      <td>81279.0</td>\n",
              "      <td>4500.0</td>\n",
              "      <td>68500.0</td>\n",
              "      <td>20000.0</td>\n",
              "      <td>NaN</td>\n",
              "      <td>NaN</td>\n",
              "      <td>93000.0</td>\n",
              "    </tr>\n",
              "    <tr>\n",
              "      <th>1</th>\n",
              "      <td>2000</td>\n",
              "      <td>Bajo Cauca</td>\n",
              "      <td>BOVINOS</td>\n",
              "      <td>CAUCASIA</td>\n",
              "      <td>8257.0</td>\n",
              "      <td>17329.0</td>\n",
              "      <td>15671.0</td>\n",
              "      <td>2210.0</td>\n",
              "      <td>43467</td>\n",
              "      <td>12646.0</td>\n",
              "      <td>...</td>\n",
              "      <td>12932.0</td>\n",
              "      <td>44489.0</td>\n",
              "      <td>86616</td>\n",
              "      <td>130083.0</td>\n",
              "      <td>120.0</td>\n",
              "      <td>80300.0</td>\n",
              "      <td>25000.0</td>\n",
              "      <td>NaN</td>\n",
              "      <td>NaN</td>\n",
              "      <td>105420.0</td>\n",
              "    </tr>\n",
              "    <tr>\n",
              "      <th>2</th>\n",
              "      <td>2000</td>\n",
              "      <td>Bajo Cauca</td>\n",
              "      <td>BOVINOS</td>\n",
              "      <td>EL BAGRE</td>\n",
              "      <td>564.0</td>\n",
              "      <td>596.0</td>\n",
              "      <td>242.0</td>\n",
              "      <td>165.0</td>\n",
              "      <td>1567</td>\n",
              "      <td>864.0</td>\n",
              "      <td>...</td>\n",
              "      <td>1374.0</td>\n",
              "      <td>2176.0</td>\n",
              "      <td>5400</td>\n",
              "      <td>6967.0</td>\n",
              "      <td>NaN</td>\n",
              "      <td>28350.0</td>\n",
              "      <td>8000.0</td>\n",
              "      <td>NaN</td>\n",
              "      <td>NaN</td>\n",
              "      <td>36350.0</td>\n",
              "    </tr>\n",
              "    <tr>\n",
              "      <th>3</th>\n",
              "      <td>2000</td>\n",
              "      <td>Bajo Cauca</td>\n",
              "      <td>BOVINOS</td>\n",
              "      <td>NECHÍ</td>\n",
              "      <td>2726.0</td>\n",
              "      <td>3092.0</td>\n",
              "      <td>2824.0</td>\n",
              "      <td>880.0</td>\n",
              "      <td>9522</td>\n",
              "      <td>4175.0</td>\n",
              "      <td>...</td>\n",
              "      <td>3361.0</td>\n",
              "      <td>13870.0</td>\n",
              "      <td>24607</td>\n",
              "      <td>34129.0</td>\n",
              "      <td>NaN</td>\n",
              "      <td>31000.0</td>\n",
              "      <td>12500.0</td>\n",
              "      <td>NaN</td>\n",
              "      <td>NaN</td>\n",
              "      <td>43500.0</td>\n",
              "    </tr>\n",
              "    <tr>\n",
              "      <th>4</th>\n",
              "      <td>2000</td>\n",
              "      <td>Bajo Cauca</td>\n",
              "      <td>BOVINOS</td>\n",
              "      <td>TARAZÁ</td>\n",
              "      <td>2462.0</td>\n",
              "      <td>6418.0</td>\n",
              "      <td>2656.0</td>\n",
              "      <td>702.0</td>\n",
              "      <td>12238</td>\n",
              "      <td>3770.0</td>\n",
              "      <td>...</td>\n",
              "      <td>2698.0</td>\n",
              "      <td>10434.0</td>\n",
              "      <td>23608</td>\n",
              "      <td>35846.0</td>\n",
              "      <td>NaN</td>\n",
              "      <td>35200.0</td>\n",
              "      <td>NaN</td>\n",
              "      <td>NaN</td>\n",
              "      <td>NaN</td>\n",
              "      <td>35200.0</td>\n",
              "    </tr>\n",
              "    <tr>\n",
              "      <th>...</th>\n",
              "      <td>...</td>\n",
              "      <td>...</td>\n",
              "      <td>...</td>\n",
              "      <td>...</td>\n",
              "      <td>...</td>\n",
              "      <td>...</td>\n",
              "      <td>...</td>\n",
              "      <td>...</td>\n",
              "      <td>...</td>\n",
              "      <td>...</td>\n",
              "      <td>...</td>\n",
              "      <td>...</td>\n",
              "      <td>...</td>\n",
              "      <td>...</td>\n",
              "      <td>...</td>\n",
              "      <td>...</td>\n",
              "      <td>...</td>\n",
              "      <td>...</td>\n",
              "      <td>...</td>\n",
              "      <td>...</td>\n",
              "      <td>...</td>\n",
              "    </tr>\n",
              "    <tr>\n",
              "      <th>2596</th>\n",
              "      <td>2021</td>\n",
              "      <td>Valle de Aburra</td>\n",
              "      <td>BOVINOS</td>\n",
              "      <td>ENVIGADO</td>\n",
              "      <td>143.0</td>\n",
              "      <td>327.0</td>\n",
              "      <td>75.0</td>\n",
              "      <td>21.0</td>\n",
              "      <td>566</td>\n",
              "      <td>424.0</td>\n",
              "      <td>...</td>\n",
              "      <td>320.0</td>\n",
              "      <td>670.0</td>\n",
              "      <td>1959</td>\n",
              "      <td>2525.0</td>\n",
              "      <td>NaN</td>\n",
              "      <td>883.0</td>\n",
              "      <td>37.0</td>\n",
              "      <td>NaN</td>\n",
              "      <td>10.0</td>\n",
              "      <td>930.0</td>\n",
              "    </tr>\n",
              "    <tr>\n",
              "      <th>2597</th>\n",
              "      <td>2021</td>\n",
              "      <td>Valle de Aburra</td>\n",
              "      <td>BOVINOS</td>\n",
              "      <td>GIRARDOTA</td>\n",
              "      <td>616.0</td>\n",
              "      <td>1040.0</td>\n",
              "      <td>861.0</td>\n",
              "      <td>225.0</td>\n",
              "      <td>2742</td>\n",
              "      <td>1111.0</td>\n",
              "      <td>...</td>\n",
              "      <td>1087.0</td>\n",
              "      <td>1772.0</td>\n",
              "      <td>5406</td>\n",
              "      <td>8148.0</td>\n",
              "      <td>209.0</td>\n",
              "      <td>475.0</td>\n",
              "      <td>10.0</td>\n",
              "      <td>5.0</td>\n",
              "      <td>NaN</td>\n",
              "      <td>699.0</td>\n",
              "    </tr>\n",
              "    <tr>\n",
              "      <th>2598</th>\n",
              "      <td>2021</td>\n",
              "      <td>Valle de Aburra</td>\n",
              "      <td>BOVINOS</td>\n",
              "      <td>LA ESTRELLA</td>\n",
              "      <td>78.0</td>\n",
              "      <td>228.0</td>\n",
              "      <td>72.0</td>\n",
              "      <td>2.0</td>\n",
              "      <td>380</td>\n",
              "      <td>113.0</td>\n",
              "      <td>...</td>\n",
              "      <td>199.0</td>\n",
              "      <td>143.0</td>\n",
              "      <td>703</td>\n",
              "      <td>1083.0</td>\n",
              "      <td>150.0</td>\n",
              "      <td>450.0</td>\n",
              "      <td>NaN</td>\n",
              "      <td>NaN</td>\n",
              "      <td>NaN</td>\n",
              "      <td>600.0</td>\n",
              "    </tr>\n",
              "    <tr>\n",
              "      <th>2599</th>\n",
              "      <td>2021</td>\n",
              "      <td>Valle de Aburra</td>\n",
              "      <td>BOVINOS</td>\n",
              "      <td>MEDELLÍN</td>\n",
              "      <td>835.0</td>\n",
              "      <td>869.0</td>\n",
              "      <td>489.0</td>\n",
              "      <td>101.0</td>\n",
              "      <td>2294</td>\n",
              "      <td>2397.0</td>\n",
              "      <td>...</td>\n",
              "      <td>1840.0</td>\n",
              "      <td>4206.0</td>\n",
              "      <td>11079</td>\n",
              "      <td>13373.0</td>\n",
              "      <td>454.0</td>\n",
              "      <td>2992.0</td>\n",
              "      <td>5529.0</td>\n",
              "      <td>NaN</td>\n",
              "      <td>NaN</td>\n",
              "      <td>8975.0</td>\n",
              "    </tr>\n",
              "    <tr>\n",
              "      <th>2600</th>\n",
              "      <td>2021</td>\n",
              "      <td>Valle de Aburra</td>\n",
              "      <td>BOVINOS</td>\n",
              "      <td>SABANETA</td>\n",
              "      <td>73.0</td>\n",
              "      <td>90.0</td>\n",
              "      <td>30.0</td>\n",
              "      <td>0.0</td>\n",
              "      <td>193</td>\n",
              "      <td>94.0</td>\n",
              "      <td>...</td>\n",
              "      <td>83.0</td>\n",
              "      <td>43.0</td>\n",
              "      <td>358</td>\n",
              "      <td>551.0</td>\n",
              "      <td>50.0</td>\n",
              "      <td>130.0</td>\n",
              "      <td>35.0</td>\n",
              "      <td>NaN</td>\n",
              "      <td>NaN</td>\n",
              "      <td>215.0</td>\n",
              "    </tr>\n",
              "  </tbody>\n",
              "</table>\n",
              "<p>2601 rows × 21 columns</p>\n",
              "</div>\n",
              "    <div class=\"colab-df-buttons\">\n",
              "\n",
              "  <div class=\"colab-df-container\">\n",
              "    <button class=\"colab-df-convert\" onclick=\"convertToInteractive('df-afef0b11-c01e-455e-9ab9-06bd137f0340')\"\n",
              "            title=\"Convert this dataframe to an interactive table.\"\n",
              "            style=\"display:none;\">\n",
              "\n",
              "  <svg xmlns=\"http://www.w3.org/2000/svg\" height=\"24px\" viewBox=\"0 -960 960 960\">\n",
              "    <path d=\"M120-120v-720h720v720H120Zm60-500h600v-160H180v160Zm220 220h160v-160H400v160Zm0 220h160v-160H400v160ZM180-400h160v-160H180v160Zm440 0h160v-160H620v160ZM180-180h160v-160H180v160Zm440 0h160v-160H620v160Z\"/>\n",
              "  </svg>\n",
              "    </button>\n",
              "\n",
              "  <style>\n",
              "    .colab-df-container {\n",
              "      display:flex;\n",
              "      gap: 12px;\n",
              "    }\n",
              "\n",
              "    .colab-df-convert {\n",
              "      background-color: #E8F0FE;\n",
              "      border: none;\n",
              "      border-radius: 50%;\n",
              "      cursor: pointer;\n",
              "      display: none;\n",
              "      fill: #1967D2;\n",
              "      height: 32px;\n",
              "      padding: 0 0 0 0;\n",
              "      width: 32px;\n",
              "    }\n",
              "\n",
              "    .colab-df-convert:hover {\n",
              "      background-color: #E2EBFA;\n",
              "      box-shadow: 0px 1px 2px rgba(60, 64, 67, 0.3), 0px 1px 3px 1px rgba(60, 64, 67, 0.15);\n",
              "      fill: #174EA6;\n",
              "    }\n",
              "\n",
              "    .colab-df-buttons div {\n",
              "      margin-bottom: 4px;\n",
              "    }\n",
              "\n",
              "    [theme=dark] .colab-df-convert {\n",
              "      background-color: #3B4455;\n",
              "      fill: #D2E3FC;\n",
              "    }\n",
              "\n",
              "    [theme=dark] .colab-df-convert:hover {\n",
              "      background-color: #434B5C;\n",
              "      box-shadow: 0px 1px 3px 1px rgba(0, 0, 0, 0.15);\n",
              "      filter: drop-shadow(0px 1px 2px rgba(0, 0, 0, 0.3));\n",
              "      fill: #FFFFFF;\n",
              "    }\n",
              "  </style>\n",
              "\n",
              "    <script>\n",
              "      const buttonEl =\n",
              "        document.querySelector('#df-afef0b11-c01e-455e-9ab9-06bd137f0340 button.colab-df-convert');\n",
              "      buttonEl.style.display =\n",
              "        google.colab.kernel.accessAllowed ? 'block' : 'none';\n",
              "\n",
              "      async function convertToInteractive(key) {\n",
              "        const element = document.querySelector('#df-afef0b11-c01e-455e-9ab9-06bd137f0340');\n",
              "        const dataTable =\n",
              "          await google.colab.kernel.invokeFunction('convertToInteractive',\n",
              "                                                    [key], {});\n",
              "        if (!dataTable) return;\n",
              "\n",
              "        const docLinkHtml = 'Like what you see? Visit the ' +\n",
              "          '<a target=\"_blank\" href=https://colab.research.google.com/notebooks/data_table.ipynb>data table notebook</a>'\n",
              "          + ' to learn more about interactive tables.';\n",
              "        element.innerHTML = '';\n",
              "        dataTable['output_type'] = 'display_data';\n",
              "        await google.colab.output.renderOutput(dataTable, element);\n",
              "        const docLink = document.createElement('div');\n",
              "        docLink.innerHTML = docLinkHtml;\n",
              "        element.appendChild(docLink);\n",
              "      }\n",
              "    </script>\n",
              "  </div>\n",
              "\n",
              "\n",
              "<div id=\"df-3e6e1ff1-fb2d-41e8-af3f-ed6fb3825408\">\n",
              "  <button class=\"colab-df-quickchart\" onclick=\"quickchart('df-3e6e1ff1-fb2d-41e8-af3f-ed6fb3825408')\"\n",
              "            title=\"Suggest charts\"\n",
              "            style=\"display:none;\">\n",
              "\n",
              "<svg xmlns=\"http://www.w3.org/2000/svg\" height=\"24px\"viewBox=\"0 0 24 24\"\n",
              "     width=\"24px\">\n",
              "    <g>\n",
              "        <path d=\"M19 3H5c-1.1 0-2 .9-2 2v14c0 1.1.9 2 2 2h14c1.1 0 2-.9 2-2V5c0-1.1-.9-2-2-2zM9 17H7v-7h2v7zm4 0h-2V7h2v10zm4 0h-2v-4h2v4z\"/>\n",
              "    </g>\n",
              "</svg>\n",
              "  </button>\n",
              "\n",
              "<style>\n",
              "  .colab-df-quickchart {\n",
              "      --bg-color: #E8F0FE;\n",
              "      --fill-color: #1967D2;\n",
              "      --hover-bg-color: #E2EBFA;\n",
              "      --hover-fill-color: #174EA6;\n",
              "      --disabled-fill-color: #AAA;\n",
              "      --disabled-bg-color: #DDD;\n",
              "  }\n",
              "\n",
              "  [theme=dark] .colab-df-quickchart {\n",
              "      --bg-color: #3B4455;\n",
              "      --fill-color: #D2E3FC;\n",
              "      --hover-bg-color: #434B5C;\n",
              "      --hover-fill-color: #FFFFFF;\n",
              "      --disabled-bg-color: #3B4455;\n",
              "      --disabled-fill-color: #666;\n",
              "  }\n",
              "\n",
              "  .colab-df-quickchart {\n",
              "    background-color: var(--bg-color);\n",
              "    border: none;\n",
              "    border-radius: 50%;\n",
              "    cursor: pointer;\n",
              "    display: none;\n",
              "    fill: var(--fill-color);\n",
              "    height: 32px;\n",
              "    padding: 0;\n",
              "    width: 32px;\n",
              "  }\n",
              "\n",
              "  .colab-df-quickchart:hover {\n",
              "    background-color: var(--hover-bg-color);\n",
              "    box-shadow: 0 1px 2px rgba(60, 64, 67, 0.3), 0 1px 3px 1px rgba(60, 64, 67, 0.15);\n",
              "    fill: var(--button-hover-fill-color);\n",
              "  }\n",
              "\n",
              "  .colab-df-quickchart-complete:disabled,\n",
              "  .colab-df-quickchart-complete:disabled:hover {\n",
              "    background-color: var(--disabled-bg-color);\n",
              "    fill: var(--disabled-fill-color);\n",
              "    box-shadow: none;\n",
              "  }\n",
              "\n",
              "  .colab-df-spinner {\n",
              "    border: 2px solid var(--fill-color);\n",
              "    border-color: transparent;\n",
              "    border-bottom-color: var(--fill-color);\n",
              "    animation:\n",
              "      spin 1s steps(1) infinite;\n",
              "  }\n",
              "\n",
              "  @keyframes spin {\n",
              "    0% {\n",
              "      border-color: transparent;\n",
              "      border-bottom-color: var(--fill-color);\n",
              "      border-left-color: var(--fill-color);\n",
              "    }\n",
              "    20% {\n",
              "      border-color: transparent;\n",
              "      border-left-color: var(--fill-color);\n",
              "      border-top-color: var(--fill-color);\n",
              "    }\n",
              "    30% {\n",
              "      border-color: transparent;\n",
              "      border-left-color: var(--fill-color);\n",
              "      border-top-color: var(--fill-color);\n",
              "      border-right-color: var(--fill-color);\n",
              "    }\n",
              "    40% {\n",
              "      border-color: transparent;\n",
              "      border-right-color: var(--fill-color);\n",
              "      border-top-color: var(--fill-color);\n",
              "    }\n",
              "    60% {\n",
              "      border-color: transparent;\n",
              "      border-right-color: var(--fill-color);\n",
              "    }\n",
              "    80% {\n",
              "      border-color: transparent;\n",
              "      border-right-color: var(--fill-color);\n",
              "      border-bottom-color: var(--fill-color);\n",
              "    }\n",
              "    90% {\n",
              "      border-color: transparent;\n",
              "      border-bottom-color: var(--fill-color);\n",
              "    }\n",
              "  }\n",
              "</style>\n",
              "\n",
              "  <script>\n",
              "    async function quickchart(key) {\n",
              "      const quickchartButtonEl =\n",
              "        document.querySelector('#' + key + ' button');\n",
              "      quickchartButtonEl.disabled = true;  // To prevent multiple clicks.\n",
              "      quickchartButtonEl.classList.add('colab-df-spinner');\n",
              "      try {\n",
              "        const charts = await google.colab.kernel.invokeFunction(\n",
              "            'suggestCharts', [key], {});\n",
              "      } catch (error) {\n",
              "        console.error('Error during call to suggestCharts:', error);\n",
              "      }\n",
              "      quickchartButtonEl.classList.remove('colab-df-spinner');\n",
              "      quickchartButtonEl.classList.add('colab-df-quickchart-complete');\n",
              "    }\n",
              "    (() => {\n",
              "      let quickchartButtonEl =\n",
              "        document.querySelector('#df-3e6e1ff1-fb2d-41e8-af3f-ed6fb3825408 button');\n",
              "      quickchartButtonEl.style.display =\n",
              "        google.colab.kernel.accessAllowed ? 'block' : 'none';\n",
              "    })();\n",
              "  </script>\n",
              "</div>\n",
              "    </div>\n",
              "  </div>\n"
            ]
          },
          "metadata": {},
          "execution_count": 12
        }
      ]
    },
    {
      "cell_type": "code",
      "execution_count": null,
      "metadata": {
        "id": "Xq_UhIfAd0Lp"
      },
      "outputs": [],
      "source": [
        "\n",
        "no_col = ['RUBRO', 'MUNICIPIO','TOTAL MACHOS','TOTAL HEMBRAS','Total Bovinos','Total Pastos (ha)']\n",
        "data = data.drop(no_col, axis=1)\n",
        "\n",
        "# for col in data.columns:\n",
        "#     if data[col].dtype == 'object' and col != 'SUBREGION':\n",
        "#         data[col] = data[col].astype(float)\n",
        "\n",
        "labels = ['Pasto Corte (ha)','Pasto Natural (ha)','Pasto Mejorado (ha)','Pasto Forrajero (ha)','Silvopastoril (ha)']\n",
        "\n",
        "for col in labels:\n",
        "    data[col] = data[col].fillna(value=0)\n",
        "\n",
        "data = data.dropna()\n",
        "\n",
        "# # data = remove_outliers(data)\n",
        "\n",
        "# data.isnull().sum(), data.shape\n",
        "data = data.groupby(['AÑO', 'SUBREGION']).sum().reset_index()\n",
        "data = data.drop(['AÑO'], axis=1)"
      ]
    },
    {
      "cell_type": "markdown",
      "metadata": {
        "id": "0W4aJ6fHabtX"
      },
      "source": [
        "## SVR"
      ]
    },
    {
      "cell_type": "markdown",
      "source": [
        "### No optimizado"
      ],
      "metadata": {
        "id": "pua9C1j62qdk"
      }
    },
    {
      "cell_type": "code",
      "source": [
        "from sklearn.multioutput import MultiOutputRegressor\n",
        "from sklearn.svm import SVR\n",
        "from sklearn.preprocessing import StandardScaler, OneHotEncoder\n",
        "from sklearn.pipeline import make_pipeline\n",
        "from sklearn.model_selection import train_test_split\n",
        "from sklearn.metrics import mean_squared_error, mean_absolute_error\n",
        "from sklearn.compose import ColumnTransformer\n",
        "from sklearn.pipeline import Pipeline\n",
        "\n",
        "\n",
        "X = data.drop(labels, axis=1)\n",
        "y = data[labels]\n",
        "\n",
        "categorical_features = [col for col in X.columns if X[col].dtype == 'object']\n",
        "numerical_features = [col for col in X.columns if X[col].dtype in ['int64', 'float64']]\n",
        "\n",
        "preprocessor = ColumnTransformer(\n",
        "    transformers=[\n",
        "        ('num', StandardScaler(), numerical_features),\n",
        "        ('cat', OneHotEncoder(handle_unknown='ignore'), categorical_features)\n",
        "    ]\n",
        ")\n",
        "\n",
        "pipeline = Pipeline(\n",
        "    steps=[\n",
        "        ('preprocessor', preprocessor),\n",
        "        ('regressor', MultiOutputRegressor(SVR()))\n",
        "    ]\n",
        ")\n",
        "\n",
        "X_train, X_test, y_train, y_test = train_test_split(X, y, test_size=0.2, random_state=42)\n",
        "\n",
        "pipeline.fit(X_train, y_train)\n",
        "\n",
        "y_pred = pipeline.predict(X_test)\n",
        "mse = mean_squared_error(y_test, y_pred)\n",
        "mae = mean_absolute_error(y_test, y_pred)\n",
        "\n",
        "print(mse)\n",
        "print(mae)"
      ],
      "metadata": {
        "colab": {
          "base_uri": "https://localhost:8080/"
        },
        "id": "nnvBhoAE2uiY",
        "outputId": "b76aa0a8-f812-4cbd-b6ea-53e88f75a40a"
      },
      "execution_count": null,
      "outputs": [
        {
          "output_type": "stream",
          "name": "stdout",
          "text": [
            "1727484186.2871475\n",
            "23792.65813473946\n"
          ]
        }
      ]
    },
    {
      "cell_type": "markdown",
      "source": [
        "### Optimización"
      ],
      "metadata": {
        "id": "rOgb_7Vq2v1N"
      }
    },
    {
      "cell_type": "code",
      "execution_count": null,
      "metadata": {
        "colab": {
          "base_uri": "https://localhost:8080/"
        },
        "id": "FSjgCak0ae7q",
        "outputId": "a873fcec-9b5d-4a0a-d49b-0a44b46f9fb0"
      },
      "outputs": [
        {
          "output_type": "stream",
          "name": "stdout",
          "text": [
            "Fitting 5 folds for each of 924 candidates, totalling 4620 fits\n",
            "Mejores hiperparámetros: {'regressor__estimator__C': 100, 'regressor__estimator__epsilon': 10, 'regressor__estimator__gamma': 0.1, 'regressor__estimator__kernel': 'poly'}\n",
            "Best stimator: Pipeline(steps=[('preprocessor',\n",
            "                 ColumnTransformer(transformers=[('num', StandardScaler(),\n",
            "                                                  ['BOVINOS Cría Macho (< DE '\n",
            "                                                   '12)',\n",
            "                                                   'BOVINOS Novillo Levante '\n",
            "                                                   '(12-24)',\n",
            "                                                   'BOVINOS Novillo  Ceba ( '\n",
            "                                                   '24-36)',\n",
            "                                                   'BOVINOS Toros (> 36)',\n",
            "                                                   'BOVINOS Cría Hembra (< DE '\n",
            "                                                   '12)',\n",
            "                                                   'BOVINOS Novilla Levante ( '\n",
            "                                                   '12-24)',\n",
            "                                                   'BOVINOS Novilla Vientre ( '\n",
            "                                                   '24-36)',\n",
            "                                                   'BOVINOS Vaca (> 36)']),\n",
            "                                                 ('cat',\n",
            "                                                  OneHotEncoder(handle_unknown='ignore'),\n",
            "                                                  ['SUBREGION'])])),\n",
            "                ('regressor',\n",
            "                 MultiOutputRegressor(estimator=SVR(C=100, epsilon=10,\n",
            "                                                    gamma=0.1,\n",
            "                                                    kernel='poly')))])\n"
          ]
        }
      ],
      "source": [
        "from sklearn.multioutput import MultiOutputRegressor\n",
        "from sklearn.svm import SVR\n",
        "from sklearn.preprocessing import StandardScaler, OneHotEncoder\n",
        "from sklearn.pipeline import make_pipeline\n",
        "from sklearn.model_selection import train_test_split\n",
        "from sklearn.metrics import mean_squared_error\n",
        "from sklearn.compose import ColumnTransformer\n",
        "from sklearn.pipeline import Pipeline\n",
        "from sklearn.model_selection import GridSearchCV\n",
        "\n",
        "\n",
        "X = data.drop(labels, axis=1)\n",
        "y = data[labels]\n",
        "\n",
        "categorical_features = [col for col in X.columns if X[col].dtype == 'object']\n",
        "numerical_features = [col for col in X.columns if X[col].dtype in ['int64', 'float64']]\n",
        "\n",
        "preprocessor = ColumnTransformer(\n",
        "    transformers=[\n",
        "        ('num', StandardScaler(), numerical_features),\n",
        "        ('cat', OneHotEncoder(handle_unknown='ignore'), categorical_features)\n",
        "    ]\n",
        ")\n",
        "\n",
        "param_grid = {\n",
        "    'regressor__estimator__C': [0.1, 1, 10, 100],\n",
        "    'regressor__estimator__gamma': [0.0001, 0.001, 0.005, 0.1, 1, 3, 5],\n",
        "    'regressor__estimator__epsilon': [0.0001, 0.0005, 0.001, 0.005, 0.01, 0.05, 0.1, 0.5, 1, 5, 10],\n",
        "    'regressor__estimator__kernel': ['rbf', 'poly', 'sigmoid']\n",
        "}\n",
        "\n",
        "pipeline = Pipeline(\n",
        "    steps=[\n",
        "        ('preprocessor', preprocessor),\n",
        "        ('regressor', MultiOutputRegressor(SVR()))\n",
        "    ]\n",
        ")\n",
        "\n",
        "X_train, X_test, y_train, y_test = train_test_split(X, y, test_size=0.2, random_state=42)\n",
        "\n",
        "grid_search = GridSearchCV(\n",
        "    pipeline,\n",
        "    param_grid,\n",
        "    cv=5,\n",
        "    n_jobs=-1,\n",
        "    verbose=1,\n",
        "    scoring='neg_mean_squared_error'\n",
        ")\n",
        "\n",
        "grid_search.fit(X_train, y_train)\n",
        "\n",
        "print(\"Mejores hiperparámetros:\", grid_search.best_params_)\n",
        "print(f'Best stimator: {grid_search.best_estimator_}')\n",
        "\n",
        "best_model = grid_search.best_estimator_\n",
        "\n",
        "# Evaluar el mejor modelo en el conjunto de prueba\n",
        "# y_pred = best_model.predict(X_test)"
      ]
    },
    {
      "cell_type": "code",
      "source": [
        "print(\"Mejores hiperparámetros:\", grid_search.best_params_)\n",
        "\n",
        "print(f'Best stimator: {grid_search.best_estimator_}')"
      ],
      "metadata": {
        "colab": {
          "base_uri": "https://localhost:8080/"
        },
        "id": "jdToxKnSPf-8",
        "outputId": "36b0bf53-00cb-4f32-f5d0-4f0a9c0092ea"
      },
      "execution_count": null,
      "outputs": [
        {
          "output_type": "stream",
          "name": "stdout",
          "text": [
            "Mejores hiperparámetros: {'regressor__estimator__C': 100, 'regressor__estimator__epsilon': 10, 'regressor__estimator__gamma': 0.1, 'regressor__estimator__kernel': 'poly'}\n",
            "Best stimator: Pipeline(steps=[('preprocessor',\n",
            "                 ColumnTransformer(transformers=[('num', StandardScaler(),\n",
            "                                                  ['BOVINOS Cría Macho (< DE '\n",
            "                                                   '12)',\n",
            "                                                   'BOVINOS Novillo Levante '\n",
            "                                                   '(12-24)',\n",
            "                                                   'BOVINOS Novillo  Ceba ( '\n",
            "                                                   '24-36)',\n",
            "                                                   'BOVINOS Toros (> 36)',\n",
            "                                                   'BOVINOS Cría Hembra (< DE '\n",
            "                                                   '12)',\n",
            "                                                   'BOVINOS Novilla Levante ( '\n",
            "                                                   '12-24)',\n",
            "                                                   'BOVINOS Novilla Vientre ( '\n",
            "                                                   '24-36)',\n",
            "                                                   'BOVINOS Vaca (> 36)']),\n",
            "                                                 ('cat',\n",
            "                                                  OneHotEncoder(handle_unknown='ignore'),\n",
            "                                                  ['SUBREGION'])])),\n",
            "                ('regressor',\n",
            "                 MultiOutputRegressor(estimator=SVR(C=100, epsilon=10,\n",
            "                                                    gamma=0.1,\n",
            "                                                    kernel='poly')))])\n"
          ]
        }
      ]
    },
    {
      "cell_type": "code",
      "source": [
        "from sklearn.metrics import mean_squared_error, mean_absolute_error\n",
        "y_pred = best_model.predict(X_test)\n",
        "mse = mean_squared_error(y_test, y_pred)\n",
        "mae = mean_absolute_error(y_test, y_pred)\n",
        "\n",
        "print(\"Error Cuadrático Medio (MSE):\", mse)\n",
        "print(\"Error Absoluto Medio (MAE):\", mae)"
      ],
      "metadata": {
        "colab": {
          "base_uri": "https://localhost:8080/"
        },
        "id": "RbRAT8bJs3u8",
        "outputId": "812caccd-0435-4e37-e9cb-088d3ac79afa"
      },
      "execution_count": null,
      "outputs": [
        {
          "output_type": "stream",
          "name": "stdout",
          "text": [
            "Error Cuadrático Medio (MSE): 1584601418.1322694\n",
            "Error Absoluto Medio (MAE): 22720.352714997418\n"
          ]
        }
      ]
    },
    {
      "cell_type": "code",
      "source": [],
      "metadata": {
        "id": "MMC-nzPI1BTq"
      },
      "execution_count": null,
      "outputs": []
    },
    {
      "cell_type": "markdown",
      "metadata": {
        "id": "4XDSJ6H7afmf"
      },
      "source": [
        "## CNN"
      ]
    },
    {
      "cell_type": "code",
      "source": [
        "import tensorflow as tf\n",
        "from tensorflow.keras.models import Sequential\n",
        "from tensorflow.keras.layers import Dense, Dropout, BatchNormalization\n",
        "from tensorflow.keras.callbacks import EarlyStopping, ModelCheckpoint, ReduceLROnPlateau\n",
        "import optuna\n",
        "\n",
        "# Crear el modelo con regularización y dropout\n",
        "def create_cnn_model(size_input, size_output, learning_rate=0.01, dropout_rate=0.2, l2_lambda=0.01):\n",
        "    model = Sequential()\n",
        "    # Capa de entrada\n",
        "    model.add(Dense(64, input_dim=size_input, activation='relu', kernel_regularizer=tf.keras.regularizers.l2(l2_lambda)))\n",
        "    model.add(BatchNormalization())\n",
        "    model.add(Dropout(dropout_rate))\n",
        "    # Capa oculta\n",
        "    model.add(Dense(128, activation='relu', kernel_regularizer=tf.keras.regularizers.l2(l2_lambda)))\n",
        "    model.add(BatchNormalization())\n",
        "    model.add(Dropout(dropout_rate))\n",
        "    # Capa de salida\n",
        "    model.add(Dense(size_output, activation='linear'))\n",
        "\n",
        "    # Compilar el modelo\n",
        "    optimizer = tf.keras.optimizers.Adam(learning_rate=learning_rate)\n",
        "    model.compile(loss='mse', optimizer=optimizer, metrics=['mae', 'mse'])\n",
        "\n",
        "    return model\n",
        "\n",
        "# Función para optimizar el modelo con Optuna\n",
        "def optimize_cnn_model(trial):\n",
        "    # Hiperparámetros a optimizar\n",
        "    learning_rate = trial.suggest_float('learning_rate', 1e-5, 1e-1)\n",
        "    dropout_rate = trial.suggest_float('dropout_rate', 0.0, 0.5)\n",
        "    l2_lambda = trial.suggest_float('l2_lambda', 1e-6, 1e-2)\n",
        "\n",
        "    # Crear y compilar el modelo\n",
        "    model = create_cnn_model(X_train.shape[1], y_train.shape[1], learning_rate=learning_rate, dropout_rate=dropout_rate, l2_lambda=l2_lambda)\n",
        "\n",
        "    # Callbacks\n",
        "    early_stopping = EarlyStopping(monitor='val_loss', patience=10)\n",
        "    reduce_lr = ReduceLROnPlateau(monitor='val_loss', factor=0.2, patience=5, min_lr=1e-6)\n",
        "    model_checkpoint = ModelCheckpoint('best_model', monitor='val_loss', save_best_only=True)\n",
        "\n",
        "    # Entrenar el modelo\n",
        "    history = model.fit(\n",
        "        X_train,\n",
        "        y_train,\n",
        "        validation_split=0.2,\n",
        "        epochs=500,\n",
        "        batch_size=32,\n",
        "        verbose=0,\n",
        "        callbacks=[early_stopping, reduce_lr, model_checkpoint]\n",
        "    )\n",
        "    val_error = history.history['val_mae'][-1]\n",
        "    return val_error\n",
        "\n",
        "def plot_cnn_history(cnn_history):\n",
        "  # Gráfica de precisión\n",
        "  plt.plot(cnn_history.history['mae'])\n",
        "  plt.plot(cnn_history.history['val_mae'])\n",
        "  plt.title('Model MAE')\n",
        "  plt.ylabel('MAE')\n",
        "  plt.xlabel('Epoch')\n",
        "  plt.legend(['Train', 'Test'], loc='upper left')\n",
        "  plt.show()"
      ],
      "metadata": {
        "id": "Snc-kbeP7d7g"
      },
      "execution_count": null,
      "outputs": []
    },
    {
      "cell_type": "markdown",
      "metadata": {
        "id": "Ev2vkNzQeAws"
      },
      "source": [
        "Preparación de los datos"
      ]
    },
    {
      "cell_type": "code",
      "source": [],
      "metadata": {
        "id": "U6n969eQ7XyD"
      },
      "execution_count": null,
      "outputs": []
    },
    {
      "cell_type": "code",
      "execution_count": null,
      "metadata": {
        "id": "23mhhgjqfMqB"
      },
      "outputs": [],
      "source": [
        "from sklearn.model_selection import train_test_split\n",
        "from sklearn.compose import ColumnTransformer\n",
        "from sklearn.preprocessing import StandardScaler, OneHotEncoder\n",
        "\n",
        "# Preparación y división de los datos\n",
        "X = data.drop(labels, axis=1)\n",
        "y = data[labels]\n",
        "\n",
        "categorical_features = [col for col in X.columns if X[col].dtype == 'object']\n",
        "numerical_features = [col for col in X.columns if X[col].dtype in ['int64', 'float64']]\n",
        "\n",
        "preprocessor = ColumnTransformer(\n",
        "    transformers=[\n",
        "        ('num', StandardScaler(), numerical_features),\n",
        "        ('cat', OneHotEncoder(handle_unknown='ignore'), categorical_features)\n",
        "    ]\n",
        ")\n",
        "\n",
        "X_train, X_test, y_train, y_test = train_test_split(X, y, test_size=0.2, random_state=42)\n",
        "\n",
        "# Preprocesar los datos\n",
        "X_train = preprocessor.fit_transform(X_train)\n",
        "X_test = preprocessor.transform(X_test)"
      ]
    },
    {
      "cell_type": "markdown",
      "source": [
        "### No optimizado"
      ],
      "metadata": {
        "id": "BNoKCrej74K1"
      }
    },
    {
      "cell_type": "code",
      "source": [
        "early_stopping = EarlyStopping(monitor='val_loss', patience=10)\n",
        "reduce_lr = ReduceLROnPlateau(monitor='val_loss', factor=0.2, patience=5, min_lr=1e-6)\n",
        "model_checkpoint = ModelCheckpoint('best_model.h5', monitor='val_loss', save_best_only=True)\n",
        "\n",
        "cnn_model = create_cnn_model(X_train.shape[1], y_train.shape[1])\n",
        "history = cnn_model.fit(\n",
        "        X_train,\n",
        "        y_train,\n",
        "        validation_split=0.2,\n",
        "        epochs=1000,\n",
        "        batch_size=32,\n",
        "        verbose=0,\n",
        "        callbacks=[early_stopping, reduce_lr, model_checkpoint]\n",
        "    )"
      ],
      "metadata": {
        "colab": {
          "base_uri": "https://localhost:8080/"
        },
        "id": "ugJ2CE1f77ph",
        "outputId": "1eadd623-4caf-42b0-8f78-bd0fdb5e1bf0"
      },
      "execution_count": null,
      "outputs": [
        {
          "output_type": "stream",
          "name": "stderr",
          "text": [
            "/usr/local/lib/python3.10/dist-packages/keras/src/engine/training.py:3079: UserWarning: You are saving your model as an HDF5 file via `model.save()`. This file format is considered legacy. We recommend using instead the native Keras format, e.g. `model.save('my_model.keras')`.\n",
            "  saving_api.save_model(\n"
          ]
        }
      ]
    },
    {
      "cell_type": "code",
      "source": [
        "plot_cnn_history(history)"
      ],
      "metadata": {
        "colab": {
          "base_uri": "https://localhost:8080/",
          "height": 472
        },
        "id": "g9yfRfuI8mSI",
        "outputId": "acb27b6c-bfcf-466c-aad7-e8bb326a2b50"
      },
      "execution_count": null,
      "outputs": [
        {
          "output_type": "display_data",
          "data": {
            "text/plain": [
              "<Figure size 640x480 with 1 Axes>"
            ],
            "image/png": "[encoded data removed]"
          },
          "metadata": {}
        }
      ]
    },
    {
      "cell_type": "markdown",
      "metadata": {
        "id": "OEDfu5WoeENd"
      },
      "source": [
        "\n",
        "\n",
        "### Optimizado"
      ]
    },
    {
      "cell_type": "code",
      "execution_count": null,
      "metadata": {
        "colab": {
          "base_uri": "https://localhost:8080/"
        },
        "id": "t8BeadH3dc4l",
        "outputId": "8f463bee-5377-4ea9-cb7e-1c68cdc599b3"
      },
      "outputs": [
        {
          "output_type": "stream",
          "name": "stderr",
          "text": [
            "[I 2023-11-18 21:49:33,691] A new study created in memory with name: no-name-ab186535-722c-419c-8bf0-50e411a9ef48\n",
            "[I 2023-11-18 21:54:21,494] Trial 0 finished with value: 15240.7998046875 and parameters: {'learning_rate': 0.0628651709195975, 'dropout_rate': 0.13312869413867157, 'l2_lambda': 0.0005535839747232911}. Best is trial 0 with value: 15240.7998046875.\n",
            "[I 2023-11-18 22:00:25,544] Trial 1 finished with value: 22547.72265625 and parameters: {'learning_rate': 0.03793161732851853, 'dropout_rate': 0.3690547414682082, 'l2_lambda': 0.004183269449115741}. Best is trial 0 with value: 15240.7998046875.\n",
            "[I 2023-11-18 22:06:42,510] Trial 2 finished with value: 39815.29296875 and parameters: {'learning_rate': 0.02083718327158358, 'dropout_rate': 0.4304910338317934, 'l2_lambda': 0.0029616469141217055}. Best is trial 0 with value: 15240.7998046875.\n",
            "[I 2023-11-18 22:10:09,832] Trial 3 finished with value: 28053.748046875 and parameters: {'learning_rate': 0.02573646068266907, 'dropout_rate': 0.38497709263008933, 'l2_lambda': 0.0005216608058297113}. Best is trial 0 with value: 15240.7998046875.\n",
            "[I 2023-11-18 22:15:45,553] Trial 4 finished with value: 25673.833984375 and parameters: {'learning_rate': 0.04262109051528769, 'dropout_rate': 0.34774411533177013, 'l2_lambda': 0.002671730925660114}. Best is trial 0 with value: 15240.7998046875.\n",
            "[I 2023-11-18 22:18:44,158] Trial 5 finished with value: 15934.626953125 and parameters: {'learning_rate': 0.060087685766833404, 'dropout_rate': 0.1740900791012963, 'l2_lambda': 0.007533253210404069}. Best is trial 0 with value: 15240.7998046875.\n",
            "[I 2023-11-18 22:23:37,368] Trial 6 finished with value: 48800.2109375 and parameters: {'learning_rate': 0.016201759246416404, 'dropout_rate': 0.33072080861378045, 'l2_lambda': 0.0017500922600154137}. Best is trial 0 with value: 15240.7998046875.\n",
            "[I 2023-11-18 22:26:40,947] Trial 7 finished with value: 57583.76171875 and parameters: {'learning_rate': 0.011314336727304563, 'dropout_rate': 0.47621766092673123, 'l2_lambda': 0.005349239669852799}. Best is trial 0 with value: 15240.7998046875.\n",
            "[I 2023-11-18 22:31:55,557] Trial 8 finished with value: 53284.40625 and parameters: {'learning_rate': 0.012296629745867147, 'dropout_rate': 0.17310287370670363, 'l2_lambda': 0.0014844684762179898}. Best is trial 0 with value: 15240.7998046875.\n",
            "[I 2023-11-18 22:33:00,175] Trial 9 finished with value: 31061.076171875 and parameters: {'learning_rate': 0.07228326931615202, 'dropout_rate': 0.12384401453595184, 'l2_lambda': 0.006320593437899566}. Best is trial 0 with value: 15240.7998046875.\n",
            "[I 2023-11-18 22:36:16,672] Trial 10 finished with value: 31787.814453125 and parameters: {'learning_rate': 0.09991600540501464, 'dropout_rate': 0.00896816301659964, 'l2_lambda': 0.00964713892088953}. Best is trial 0 with value: 15240.7998046875.\n",
            "[I 2023-11-18 22:39:16,278] Trial 11 finished with value: 13725.8564453125 and parameters: {'learning_rate': 0.06248753521727639, 'dropout_rate': 0.22633603304440741, 'l2_lambda': 0.007061351647191858}. Best is trial 11 with value: 13725.8564453125.\n",
            "[I 2023-11-18 22:42:29,985] Trial 12 finished with value: 15251.068359375 and parameters: {'learning_rate': 0.06484056605043986, 'dropout_rate': 0.258731708389675, 'l2_lambda': 9.879011941118197e-05}. Best is trial 11 with value: 13725.8564453125.\n",
            "[I 2023-11-18 22:45:09,936] Trial 13 finished with value: 11611.75 and parameters: {'learning_rate': 0.07889018085770035, 'dropout_rate': 0.25866031480143287, 'l2_lambda': 0.0038183603445688906}. Best is trial 13 with value: 11611.75.\n",
            "[I 2023-11-18 22:48:35,132] Trial 14 finished with value: 11552.03515625 and parameters: {'learning_rate': 0.08083794876357481, 'dropout_rate': 0.2840811438775757, 'l2_lambda': 0.004570139352541991}. Best is trial 14 with value: 11552.03515625.\n",
            "[I 2023-11-18 22:51:31,892] Trial 15 finished with value: 17430.76953125 and parameters: {'learning_rate': 0.08470859352508787, 'dropout_rate': 0.27114483711715454, 'l2_lambda': 0.004617965202972854}. Best is trial 14 with value: 11552.03515625.\n",
            "[I 2023-11-18 22:57:45,211] Trial 16 finished with value: 22145.875 and parameters: {'learning_rate': 0.08035584209979697, 'dropout_rate': 0.29883977269955053, 'l2_lambda': 0.004103482691923016}. Best is trial 14 with value: 11552.03515625.\n",
            "[I 2023-11-18 23:00:30,522] Trial 17 finished with value: 14173.357421875 and parameters: {'learning_rate': 0.09239242709769803, 'dropout_rate': 0.3179367649048796, 'l2_lambda': 0.0034330460886459278}. Best is trial 14 with value: 11552.03515625.\n",
            "[I 2023-11-18 23:02:49,283] Trial 18 finished with value: 14181.2646484375 and parameters: {'learning_rate': 0.07855155024009333, 'dropout_rate': 0.2408582368738198, 'l2_lambda': 0.0054933455758137744}. Best is trial 14 with value: 11552.03515625.\n",
            "[I 2023-11-18 23:06:20,269] Trial 19 finished with value: 15155.8466796875 and parameters: {'learning_rate': 0.08914506148402516, 'dropout_rate': 0.38019372106254395, 'l2_lambda': 0.0036434527564961306}. Best is trial 14 with value: 11552.03515625.\n"
          ]
        },
        {
          "output_type": "stream",
          "name": "stdout",
          "text": [
            "Mejor MAE: 11552.03515625\n"
          ]
        }
      ],
      "source": [
        "# Optimización con Optuna\n",
        "study = optuna.create_study(direction='minimize')\n",
        "study.optimize(optimize_cnn_model, n_trials=20)\n",
        "\n",
        "# Mejor trial\n",
        "trial = study.best_trial\n",
        "print('Mejor MAE: {}'.format(trial.value))\n"
      ]
    },
    {
      "cell_type": "code",
      "execution_count": null,
      "metadata": {
        "colab": {
          "base_uri": "https://localhost:8080/"
        },
        "id": "VfA5Gkp5jISa",
        "outputId": "64407566-bd88-488d-cc3e-00c6e08ee3a2"
      },
      "outputs": [
        {
          "output_type": "stream",
          "name": "stdout",
          "text": [
            "Mejor MAE: 11552.03515625\n"
          ]
        }
      ],
      "source": [
        "print('Mejor MAE: {}'.format(trial.value))"
      ]
    },
    {
      "cell_type": "code",
      "execution_count": null,
      "metadata": {
        "id": "DV5x4rGOjL7-"
      },
      "outputs": [],
      "source": []
    },
    {
      "cell_type": "code",
      "execution_count": null,
      "metadata": {
        "colab": {
          "base_uri": "https://localhost:8080/"
        },
        "id": "HPodPB9-pEdv",
        "outputId": "511af7a2-8c7e-4ba8-8be3-9b584eb6970a"
      },
      "outputs": [
        {
          "output_type": "execute_result",
          "data": {
            "text/plain": [
              "{'learning_rate': 0.08083794876357481,\n",
              " 'dropout_rate': 0.2840811438775757,\n",
              " 'l2_lambda': 0.004570139352541991}"
            ]
          },
          "metadata": {},
          "execution_count": 24
        }
      ],
      "source": [
        "best_params = study.best_params\n",
        "best_params"
      ]
    },
    {
      "cell_type": "code",
      "execution_count": null,
      "metadata": {
        "colab": {
          "base_uri": "https://localhost:8080/"
        },
        "id": "UHqA1E-gsQjD",
        "outputId": "be0c83e2-51ec-4a2f-e6ad-25d56b8b2059"
      },
      "outputs": [
        {
          "output_type": "stream",
          "name": "stderr",
          "text": [
            "/usr/local/lib/python3.10/dist-packages/keras/src/engine/training.py:3079: UserWarning: You are saving your model as an HDF5 file via `model.save()`. This file format is considered legacy. We recommend using instead the native Keras format, e.g. `model.save('my_model.keras')`.\n",
            "  saving_api.save_model(\n"
          ]
        }
      ],
      "source": [
        "early_stopping = EarlyStopping(monitor='val_loss', patience=10)\n",
        "reduce_lr = ReduceLROnPlateau(monitor='val_loss', factor=0.2, patience=5, min_lr=1e-6)\n",
        "model_checkpoint = ModelCheckpoint('best_model.h5', monitor='val_loss', save_best_only=True)\n",
        "\n",
        "cnn_model = create_cnn_model(X_train.shape[1], y_train.shape[1], **best_params)\n",
        "history = cnn_model.fit(\n",
        "        X_train,\n",
        "        y_train,\n",
        "        validation_split=0.2,\n",
        "        epochs=1000,\n",
        "        batch_size=32,\n",
        "        verbose=0,\n",
        "        callbacks=[early_stopping, reduce_lr, model_checkpoint]\n",
        "    )"
      ]
    },
    {
      "cell_type": "code",
      "source": [
        "plot_cnn_history(history)"
      ],
      "metadata": {
        "colab": {
          "base_uri": "https://localhost:8080/",
          "height": 472
        },
        "id": "L_yso1TuwaQ5",
        "outputId": "158fb944-f1a9-427b-cee9-952fecd393c1"
      },
      "execution_count": null,
      "outputs": [
        {
          "output_type": "display_data",
          "data": {
            "text/plain": [
              "<Figure size 640x480 with 1 Axes>"
            ],
            "image/png": "[encoded data removed]"
          },
          "metadata": {}
        }
      ]
    }
  ],
  "metadata": {
    "accelerator": "GPU",
    "colab": {
      "provenance": [],
      "include_colab_link": true
    },
    "kernelspec": {
      "display_name": "Python 3",
      "name": "python3"
    },
    "language_info": {
      "name": "python"
    }
  },
  "nbformat": 4,
  "nbformat_minor": 0
}